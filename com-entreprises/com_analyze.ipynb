{
 "cells": [
  {
   "cell_type": "code",
   "execution_count": null,
   "id": "5d9c86a6",
   "metadata": {},
   "outputs": [],
   "source": [
    "import pandas as pd\n",
    "import matplotlib.pyplot as plt\n",
    "import seaborn as sns"
   ]
  },
  {
   "cell_type": "code",
   "execution_count": null,
   "id": "4f4a8b42",
   "metadata": {
    "lines_to_next_cell": 1
   },
   "outputs": [],
   "source": [
    "# Définir un style pour les graphiques\n",
    "sns.set_theme(style=\"whitegrid\")"
   ]
  },
  {
   "cell_type": "code",
   "execution_count": null,
   "id": "3122cea6",
   "metadata": {
    "lines_to_next_cell": 1
   },
   "outputs": [],
   "source": [
    "def plot_capital_social_per_secteur(df):\n",
    "    plt.figure(figsize=(16, 8))\n",
    "    sns.boxplot(x='Capital social (KMF)', y='Secteur d\\'activités', data=df, showfliers=False, \n",
    "            order=df.groupby('Secteur d\\'activités')['Capital social (KMF)'].median().sort_values(ascending=False).index[:2], \n",
    "            palette='coolwarm_r', width=0.6+len(max(df['Secteur d\\'activités'], key=len))/100)\n",
    "\n",
    "    plt.title(\"Distribution du capital social par secteur d'activité (Top 10)\", fontsize=16, fontweight=\"bold\", pad=10)\n",
    "    plt.xlabel(\"Capital social (KMF)\", fontsize=12)\n",
    "    plt.ylabel(\"Secteur d'activités\", fontsize=12)\n",
    "    plt.xticks(fontsize=10)\n",
    "    plt.yticks(fontsize=10)\n",
    "    plt.annotate(\"Source : Youssouf SAGAF\", xy=(df['Capital social (KMF)'].max() / 2, len(df.groupby('Secteur d\\'activités').count().index) / 2), \n",
    "                 fontsize=12, ha=\"center\", rotation=30, alpha=0.3)\n",
    "    plt.tight_layout()\n",
    "    plt.show()"
   ]
  },
  {
   "cell_type": "code",
   "execution_count": null,
   "id": "c2384691",
   "metadata": {
    "lines_to_next_cell": 1
   },
   "outputs": [],
   "source": [
    "def plot_secteurs_activites(df):\n",
    "    plt.figure(figsize=(16, 8))\n",
    "    secteurs = df['Secteur d\\'activités'].value_counts().head(10)\n",
    "    sns.barplot(x=secteurs.values, y=secteurs.index, palette=\"coolwarm_r\")\n",
    "    plt.title(\"Top 10 des secteurs d'activités\", fontsize=18, fontweight=\"bold\", pad=20)\n",
    "    plt.xlabel(\"Nombre d'entreprises\", fontsize=14)\n",
    "    plt.ylabel(\"Secteur d'activités\", fontsize=14)\n",
    "    plt.xticks(fontsize=12)\n",
    "    plt.yticks(fontsize=12)\n",
    "    plt.annotate(\"Source : Youssouf SAGAF\", xy=(    secteurs.values.max() / 2, len(secteurs.index) / 2), \n",
    "                 fontsize=10, ha=\"center\", rotation=30, alpha=0.3)\n",
    "    plt.tight_layout()\n",
    "    plt.show()"
   ]
  },
  {
   "cell_type": "code",
   "execution_count": null,
   "id": "f2b316b2",
   "metadata": {
    "lines_to_next_cell": 1
   },
   "outputs": [],
   "source": [
    "def plot_forme_juridique(df):\n",
    "    plt.figure(figsize=(16, 8))\n",
    "    formes_juridiques = df['Forme Juridique'].value_counts()\n",
    "    sns.barplot(x=formes_juridiques.values, y=formes_juridiques.index, palette=\"Spectral\")\n",
    "    plt.title(\"Nombre d'entreprises par forme juridique\", fontsize=18, fontweight=\"bold\", pad=20)\n",
    "    plt.xlabel(\"Nombre d'entreprises\", fontsize=14)\n",
    "    plt.ylabel(\"Forme juridique\", fontsize=14)\n",
    "    plt.xticks(fontsize=12)\n",
    "    plt.yticks(fontsize=12)\n",
    "    plt.annotate(\"Source : Youssouf SAGAF\", xy=(formes_juridiques.values.max() / 2, len(formes_juridiques.index) / 2), \n",
    "                 fontsize=10, ha=\"center\", rotation=30, alpha=0.3)\n",
    "    plt.tight_layout()\n",
    "    plt.show()"
   ]
  },
  {
   "cell_type": "code",
   "execution_count": null,
   "id": "c76e3c94",
   "metadata": {},
   "outputs": [],
   "source": [
    "def plot_capital_social_distribution(df):\n",
    "    plt.figure(figsize=(16, 8))\n",
    "    sns.histplot(data=df, x='Capital social (KMF)', kde=True, bins=20, color='purple', edgecolor='white')\n",
    "    plt.title(\"Distribution du capital social\", fontsize=18, fontweight=\"bold\", pad=20)\n",
    "    plt.xlabel(\"Capital social (KMF)\", fontsize=14)\n",
    "    plt.ylabel(\"Fréquence\", fontsize=14)\n",
    "    plt.xticks(fontsize=12)\n",
    "    plt.yticks(fontsize=12)\n",
    "    plt.annotate(\"Source : Youssouf SAGAF\", xy=(df['Capital social (KMF)'].max() / 2, plt.gca().get_ylim()[1] / 2), \n",
    "                 fontsize=10, ha=\"center\", rotation=30, alpha=0.3)\n",
    "    plt.tight_layout()\n",
    "    plt.show()"
   ]
  },
  {
   "cell_type": "code",
   "execution_count": null,
   "id": "85ff9e57",
   "metadata": {
    "lines_to_next_cell": 1
   },
   "outputs": [],
   "source": [
    "def replace_forme_juridique(df):\n",
    "    formes_juridiques_map = {\n",
    "        'SARLU': 'SARL',\n",
    "        'SARLu': 'SARL',\n",
    "        'Sarl': 'SARL',\n",
    "        ' SARL': 'SARL',\n",
    "        'PP': 'PP',\n",
    "        'pp': 'PP',\n",
    "        'SCOOPS': 'SCOOPS',\n",
    "        'SCOOP-CA': 'SCOOP-CA',\n",
    "        'SA': 'SA',\n",
    "        'SAS': 'SAS'\n",
    "    }\n",
    "    df['Forme Juridique'] = df['Forme Juridique'].replace(formes_juridiques_map)\n",
    "    return df"
   ]
  },
  {
   "cell_type": "code",
   "execution_count": null,
   "id": "5372d273",
   "metadata": {
    "lines_to_next_cell": 1
   },
   "outputs": [],
   "source": [
    "def remove_unnamed_columns(df):\n",
    "    colonnes_inutiles = ['Unnamed: 11', 'Unnamed: 12', 'Unnamed: 13', 'Unnamed: 14']\n",
    "    df.drop(columns=colonnes_inutiles, inplace=True)\n",
    "    return df"
   ]
  },
  {
   "cell_type": "code",
   "execution_count": null,
   "id": "89d58739",
   "metadata": {
    "lines_to_next_cell": 1
   },
   "outputs": [],
   "source": [
    "def drop_missing_values(df):\n",
    "    df.dropna(subset=['Forme Juridique', 'Secteur d\\'activités', 'Gerant', 'CHR-NRCCM'], inplace=True)\n",
    "    return df"
   ]
  },
  {
   "cell_type": "code",
   "execution_count": null,
   "id": "62a656f5",
   "metadata": {
    "lines_to_next_cell": 1
   },
   "outputs": [],
   "source": [
    "def clean_capital_social(df):\n",
    "    df['Capital social (KMF)'].fillna(0, inplace=True)\n",
    "    df['Capital social (KMF)'] = pd.to_numeric(df['Capital social (KMF)'], errors='coerce')\n",
    "    df['Capital social (KMF)'].fillna(0, inplace=True)\n",
    "    return df"
   ]
  },
  {
   "cell_type": "code",
   "execution_count": null,
   "id": "9b577aff",
   "metadata": {
    "lines_to_next_cell": 1
   },
   "outputs": [],
   "source": [
    "def unify_text_case(df):\n",
    "    df['Forme Juridique'] = df['Forme Juridique'].str.upper().str.strip()\n",
    "    df['Secteur d\\'activités'] = df['Secteur d\\'activités'].str.capitalize().str.strip()\n",
    "    return df"
   ]
  },
  {
   "cell_type": "code",
   "execution_count": null,
   "id": "3c6fd290",
   "metadata": {
    "lines_to_next_cell": 1
   },
   "outputs": [],
   "source": [
    "def identify_outliers(df):\n",
    "    Q1 = df['Capital social (KMF)'].quantile(0.25)\n",
    "    Q3 = df['Capital social (KMF)'].quantile(0.75)\n",
    "    IQR = Q3 - Q1\n",
    "    seuil_bas = Q1 - 1.5 * IQR\n",
    "    seuil_haut = Q3 + 1.5 * IQR\n",
    "    outliers = df[(df['Capital social (KMF)'] < seuil_bas) | (df['Capital social (KMF)'] > seuil_haut)]\n",
    "    return outliers"
   ]
  },
  {
   "cell_type": "code",
   "execution_count": null,
   "id": "6684a552",
   "metadata": {
    "lines_to_next_cell": 1
   },
   "outputs": [],
   "source": [
    "def nettoyage(df):\n",
    "    df = replace_forme_juridique(df)\n",
    "    df = remove_unnamed_columns(df)\n",
    "    df = drop_missing_values(df)\n",
    "    df = clean_capital_social(df)\n",
    "    df = unify_text_case(df)\n",
    "    outliers = identify_outliers(df)\n",
    "    print(\"Outliers dans la colonne 'Capital social (KMF)':\")\n",
    "    print(outliers)\n",
    "    return df"
   ]
  },
  {
   "cell_type": "code",
   "execution_count": null,
   "id": "c34c7b5d",
   "metadata": {
    "lines_to_next_cell": 1
   },
   "outputs": [],
   "source": [
    "def read_excel_file(fichier_excel):\n",
    "    df = pd.read_excel(fichier_excel, engine='openpyxl')\n",
    "    return df"
   ]
  },
  {
   "cell_type": "code",
   "execution_count": null,
   "id": "aed09a99",
   "metadata": {
    "lines_to_next_cell": 1
   },
   "outputs": [],
   "source": [
    "def display_general_information(df):\n",
    "    print(\"\\nInformations générales après nettoyage:\")\n",
    "    print(df.info())\n",
    "    print(\"\\nStatistiques descriptives:\")\n",
    "    print(df.describe())\n",
    "    print(\"\\nNombre d'entreprises par secteur d'activité:\")\n",
    "    print(df['Secteur d\\'activités'].value_counts())\n",
    "    print(\"\\nNombre d'entreprises par forme juridique:\")\n",
    "    print(df['Forme Juridique'].value_counts())\n",
    "    return"
   ]
  },
  {
   "cell_type": "code",
   "execution_count": null,
   "id": "ea136290",
   "metadata": {},
   "outputs": [],
   "source": [
    "def main():\n",
    "    # Remplacez 'chemin_du_fichier.xlsx' par le chemin réel de votre fichier Excel\n",
    "    fichier_excel = 'entreprises-2022.xlsx'\n",
    "    df = read_excel_file(fichier_excel)\n",
    "    \n",
    "    print(\"Noms de colonnes dans le DataFrame:\")\n",
    "    print(df.columns)\n",
    "    print(\"Les 5 premières lignes du fichier:\")\n",
    "    print(df.head())\n",
    "    \n",
    "    df = nettoyage(df)\n",
    "    display_general_information(df)\n",
    "\n",
    "    # Appeler les fonctions de tracé pour visualiser les informations importantes\n",
    "    plot_secteurs_activites(df)\n",
    "    plot_forme_juridique(df)\n",
    "    plot_capital_social_distribution(df)"
   ]
  },
  {
   "cell_type": "code",
   "execution_count": null,
   "id": "51a631ba",
   "metadata": {},
   "outputs": [],
   "source": [
    "if __name__ == '__main__':\n",
    "    main()"
   ]
  }
 ],
 "metadata": {
  "jupytext": {
   "cell_metadata_filter": "-all",
   "main_language": "python",
   "notebook_metadata_filter": "-all"
  }
 },
 "nbformat": 4,
 "nbformat_minor": 5
}
